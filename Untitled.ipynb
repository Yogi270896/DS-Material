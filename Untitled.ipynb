{
 "cells": [
  {
   "cell_type": "code",
   "execution_count": 7,
   "id": "9d812568-853a-4c0a-8485-856ff3afd8fd",
   "metadata": {},
   "outputs": [],
   "source": [
    "a = \"yogi\""
   ]
  },
  {
   "cell_type": "code",
   "execution_count": 24,
   "id": "71a13dde-9ca7-41e7-98fe-68f6790cc612",
   "metadata": {
    "tags": []
   },
   "outputs": [
    {
     "name": "stdout",
     "output_type": "stream",
     "text": [
      "i\n"
     ]
    }
   ],
   "source": [
    "print(a[3])"
   ]
  },
  {
   "cell_type": "code",
   "execution_count": 12,
   "id": "79ed97ab-228f-4c13-bf15-d85ce3d2d83e",
   "metadata": {},
   "outputs": [],
   "source": [
    "b = \"software Dev\""
   ]
  },
  {
   "cell_type": "code",
   "execution_count": 14,
   "id": "1093a72c-9273-4165-9834-f3156d22a97b",
   "metadata": {},
   "outputs": [
    {
     "name": "stdout",
     "output_type": "stream",
     "text": [
      "yogi software Dev\n"
     ]
    }
   ],
   "source": [
    "print(a + \" \" + b)"
   ]
  },
  {
   "cell_type": "code",
   "execution_count": 18,
   "id": "4e43296a-7fab-4e2c-97db-92fb030177e9",
   "metadata": {},
   "outputs": [],
   "source": [
    "message = a + \" \" + b "
   ]
  },
  {
   "cell_type": "code",
   "execution_count": 42,
   "id": "2e6ea13b-dfe6-4abb-aca7-0f12bcbe944c",
   "metadata": {
    "tags": []
   },
   "outputs": [],
   "source": [
    "n = True or False"
   ]
  },
  {
   "cell_type": "code",
   "execution_count": 3,
   "id": "f8738fed-f9b6-4dfb-9eab-d0d772208d76",
   "metadata": {},
   "outputs": [
    {
     "ename": "NameError",
     "evalue": "name 'n' is not defined",
     "output_type": "error",
     "traceback": [
      "\u001b[0;31m---------------------------------------------------------------------------\u001b[0m",
      "\u001b[0;31mNameError\u001b[0m                                 Traceback (most recent call last)",
      "Input \u001b[0;32mIn [3]\u001b[0m, in \u001b[0;36m<cell line: 1>\u001b[0;34m()\u001b[0m\n\u001b[0;32m----> 1\u001b[0m \u001b[38;5;28mprint\u001b[39m ( \u001b[43mn\u001b[49m )\n",
      "\u001b[0;31mNameError\u001b[0m: name 'n' is not defined"
     ]
    }
   ],
   "source": [
    "print ( n )"
   ]
  },
  {
   "cell_type": "code",
   "execution_count": 6,
   "id": "a1886075-7312-47a9-b691-3500b4536705",
   "metadata": {},
   "outputs": [
    {
     "name": "stdout",
     "output_type": "stream",
     "text": [
      "0\n",
      "1\n",
      "2\n",
      "3\n",
      "4\n",
      "5\n"
     ]
    }
   ],
   "source": [
    "sowmiya =0 \n",
    "while sowmiya <=5:\n",
    "    print(sowmiya)\n",
    "    sowmiya = sowmiya+1\n"
   ]
  },
  {
   "cell_type": "code",
   "execution_count": 7,
   "id": "0f0e2394-f800-4b9a-b011-ac11ec44d734",
   "metadata": {},
   "outputs": [
    {
     "name": "stdout",
     "output_type": "stream",
     "text": [
      "range(0, 5)\n"
     ]
    }
   ],
   "source": [
    "print(range(5))"
   ]
  },
  {
   "cell_type": "code",
   "execution_count": 8,
   "id": "444fe1c6-543f-42b0-8b92-1e4b7f573213",
   "metadata": {},
   "outputs": [
    {
     "name": "stdout",
     "output_type": "stream",
     "text": [
      "its not greater\n"
     ]
    }
   ],
   "source": [
    "from numpy.random import randn\n",
    "if randn() < 1:\n",
    "    print(\"ITS Grt than 0\")\n",
    "    x = \"hello\"\n",
    "else:\n",
    "    print(\"its not greater\")\n",
    "        "
   ]
  },
  {
   "cell_type": "code",
   "execution_count": 13,
   "id": "a6d28a4c-44a3-4bf8-a21d-1c852496ad84",
   "metadata": {},
   "outputs": [
    {
     "name": "stdout",
     "output_type": "stream",
     "text": [
      "None\n"
     ]
    }
   ],
   "source": [
    "x = None\n",
    "print(x)"
   ]
  },
  {
   "cell_type": "code",
   "execution_count": 27,
   "id": "b3e33a2f-2906-44e8-ae46-8b10a451109c",
   "metadata": {},
   "outputs": [
    {
     "name": "stdout",
     "output_type": "stream",
     "text": [
      "<class 'list'>\n",
      "[1, 'yogi', 5, 6, 0]\n"
     ]
    }
   ],
   "source": [
    "y = [1,\"yogi\",5,6,0]\n",
    "print(type(y))\n",
    "a = [\"l\",1,9,True,y]\n",
    "print(a[4])"
   ]
  },
  {
   "cell_type": "code",
   "execution_count": 30,
   "id": "3ec8f835-fce7-4cbe-8e0a-119cfdc6be4e",
   "metadata": {},
   "outputs": [
    {
     "data": {
      "text/plain": [
       "['1', 0]"
      ]
     },
     "execution_count": 30,
     "metadata": {},
     "output_type": "execute_result"
    }
   ],
   "source": [
    "b =[\"1\",0,1,3.4,7,0]\n",
    "b[0:2:1]"
   ]
  },
  {
   "cell_type": "code",
   "execution_count": 42,
   "id": "20053d1f-6af7-4f96-85fd-53a901441f7d",
   "metadata": {},
   "outputs": [
    {
     "data": {
      "text/plain": [
       "[1, 9, 17]"
      ]
     },
     "execution_count": 42,
     "metadata": {},
     "output_type": "execute_result"
    }
   ],
   "source": [
    "b =list(range(0,20))\n",
    "b[-19:-1:8]"
   ]
  },
  {
   "cell_type": "code",
   "execution_count": 44,
   "id": "9ae5cc15-5a9a-4a88-ac55-7fd0624a44cf",
   "metadata": {},
   "outputs": [
    {
     "name": "stdout",
     "output_type": "stream",
     "text": [
      "(8, 8, 1)\n"
     ]
    }
   ],
   "source": [
    "t = (1,8,8)\n",
    "print(t[::-1])"
   ]
  }
 ],
 "metadata": {
  "kernelspec": {
   "display_name": "Python 3 (ipykernel)",
   "language": "python",
   "name": "python3"
  },
  "language_info": {
   "codemirror_mode": {
    "name": "ipython",
    "version": 3
   },
   "file_extension": ".py",
   "mimetype": "text/x-python",
   "name": "python",
   "nbconvert_exporter": "python",
   "pygments_lexer": "ipython3",
   "version": "3.9.12"
  }
 },
 "nbformat": 4,
 "nbformat_minor": 5
}
